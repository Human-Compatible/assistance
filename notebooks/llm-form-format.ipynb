{
 "cells": [
  {
   "cell_type": "code",
   "execution_count": null,
   "id": "e80c0a08-c566-4cd0-9b9a-b2bba7535377",
   "metadata": {},
   "outputs": [],
   "source": [
    "%load_ext autoreload\n",
    "%autoreload 2"
   ]
  },
  {
   "cell_type": "code",
   "execution_count": null,
   "id": "7df04565-1db7-4110-85f5-38464263fc46",
   "metadata": {},
   "outputs": [],
   "source": [
    "from assistance._config import load_form_config\n",
    "from assistance._enrolment.form import _walk_and_build_remaining_form_fields"
   ]
  },
  {
   "cell_type": "code",
   "execution_count": null,
   "id": "bf52ef28-374c-4056-bded-3020cdeb33c5",
   "metadata": {},
   "outputs": [],
   "source": [
    "cfg = await load_form_config(\"jims-ac\")"
   ]
  },
  {
   "cell_type": "code",
   "execution_count": null,
   "id": "f864d3dd-4aa6-4391-87e5-36e5d58cf47d",
   "metadata": {},
   "outputs": [],
   "source": [
    "# cfg"
   ]
  },
  {
   "cell_type": "code",
   "execution_count": null,
   "id": "ff9eafef-d257-4b60-b76c-17bb52641460",
   "metadata": {},
   "outputs": [],
   "source": [
    "print(_walk_and_build_remaining_form_fields(cfg['field']))"
   ]
  },
  {
   "cell_type": "code",
   "execution_count": null,
   "id": "fa832ac6-d0de-4dce-b514-53aba5993749",
   "metadata": {},
   "outputs": [],
   "source": []
  }
 ],
 "metadata": {
  "kernelspec": {
   "display_name": "assistance",
   "language": "python",
   "name": "assistance"
  },
  "language_info": {
   "codemirror_mode": {
    "name": "ipython",
    "version": 3
   },
   "file_extension": ".py",
   "mimetype": "text/x-python",
   "name": "python",
   "nbconvert_exporter": "python",
   "pygments_lexer": "ipython3",
   "version": "3.11.2"
  }
 },
 "nbformat": 4,
 "nbformat_minor": 5
}
