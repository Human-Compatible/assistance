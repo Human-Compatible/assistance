{
 "cells": [
  {
   "cell_type": "code",
   "execution_count": null,
   "id": "f1a6539e-0247-4638-b8df-394447e5f9e5",
   "metadata": {},
   "outputs": [],
   "source": [
    "from serpapi import GoogleSearch"
   ]
  },
  {
   "cell_type": "code",
   "execution_count": null,
   "id": "8b9bdee1-b87f-4fd6-9588-3a66544bdffd",
   "metadata": {},
   "outputs": [],
   "source": [
    "%load_ext autoreload\n",
    "%autoreload 2"
   ]
  },
  {
   "cell_type": "code",
   "execution_count": null,
   "id": "6165900b-2b4a-4d60-886d-f33409eb2c4b",
   "metadata": {},
   "outputs": [],
   "source": [
    "import assistance\n",
    "from assistance._keys import get_serp_api_key"
   ]
  },
  {
   "cell_type": "code",
   "execution_count": null,
   "id": "c14df1e0-431a-4c42-8b86-bf347384a03e",
   "metadata": {},
   "outputs": [],
   "source": [
    "serp_api_key = get_serp_api_key()"
   ]
  },
  {
   "cell_type": "code",
   "execution_count": null,
   "id": "c0a98527-be77-4725-add3-a74fa539d255",
   "metadata": {},
   "outputs": [],
   "source": [
    "params = {\n",
    "  \"q\": \"Using the Google API to add a calendar item\",\n",
    "  \"hl\": \"en\",\n",
    "  \"google_domain\": \"google.com\",\n",
    "  \"api_key\": serp_api_key\n",
    "}\n",
    "\n",
    "search = GoogleSearch(params)\n",
    "results = search.get_dict()"
   ]
  },
  {
   "cell_type": "code",
   "execution_count": null,
   "id": "370f4a82-2990-4751-8710-0422ad13f6ca",
   "metadata": {},
   "outputs": [],
   "source": [
    "results"
   ]
  },
  {
   "cell_type": "code",
   "execution_count": null,
   "id": "70b1e8d2-6f51-4039-b0e8-ab19b86dec4c",
   "metadata": {},
   "outputs": [],
   "source": []
  }
 ],
 "metadata": {
  "kernelspec": {
   "display_name": "assistance",
   "language": "python",
   "name": "assistance"
  },
  "language_info": {
   "codemirror_mode": {
    "name": "ipython",
    "version": 3
   },
   "file_extension": ".py",
   "mimetype": "text/x-python",
   "name": "python",
   "nbconvert_exporter": "python",
   "pygments_lexer": "ipython3",
   "version": "3.11.2"
  }
 },
 "nbformat": 4,
 "nbformat_minor": 5
}
