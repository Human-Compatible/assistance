{
 "cells": [
  {
   "cell_type": "code",
   "execution_count": null,
   "id": "3249f3c8-74b0-4728-b0d9-da2df4d53534",
   "metadata": {
    "tags": []
   },
   "outputs": [],
   "source": [
    "import logging\n",
    "from importlib import reload\n",
    "\n",
    "reload(logging)\n",
    "logging.basicConfig(\n",
    "    level=logging.INFO,\n",
    "    format=\"%(asctime)s.%(msecs)d %(levelname)s: %(message)s\",\n",
    "    datefmt=\"%Y-%m-%d %H:%M:%S\",\n",
    ")"
   ]
  },
  {
   "cell_type": "code",
   "execution_count": null,
   "id": "334a2be4-26e2-4248-b0ad-32c850f113ce",
   "metadata": {
    "tags": []
   },
   "outputs": [],
   "source": [
    "%load_ext autoreload\n",
    "%autoreload 2"
   ]
  },
  {
   "cell_type": "code",
   "execution_count": null,
   "id": "84667c58-c8e8-4ce8-a81a-2135d04d13b1",
   "metadata": {
    "tags": []
   },
   "outputs": [],
   "source": [
    "from assistance import _ctx\n",
    "from assistance._keys import get_openai_api_key"
   ]
  },
  {
   "cell_type": "code",
   "execution_count": null,
   "id": "6a20aace-460a-4968-83e8-e7c83eca21e5",
   "metadata": {
    "tags": []
   },
   "outputs": [],
   "source": [
    "from assistance._faq.sub_questions import get_sub_questions\n",
    "from assistance._faq.batched_questions import get_questions_by_batch"
   ]
  },
  {
   "cell_type": "code",
   "execution_count": null,
   "id": "ab6d98e2-1d7f-4a9c-a077-c271a5730dde",
   "metadata": {
    "tags": []
   },
   "outputs": [],
   "source": [
    "_ctx.open_session()\n",
    "OPEN_AI_API_KEY = get_openai_api_key()\n",
    "scope = \"test\""
   ]
  },
  {
   "cell_type": "code",
   "execution_count": null,
   "id": "e5be3638-4415-4da9-821c-24bb913e6ab3",
   "metadata": {
    "tags": []
   },
   "outputs": [],
   "source": [
    "questions = await get_sub_questions(scope, \"Who is older, my mother, or the current president of the USA?\")\n",
    "questions"
   ]
  },
  {
   "cell_type": "code",
   "execution_count": null,
   "id": "d505769c-3cea-416d-bd21-84f572d1b143",
   "metadata": {
    "tags": []
   },
   "outputs": [],
   "source": [
    "batched_questions = await get_questions_by_batch(scope, questions)\n",
    "batched_questions"
   ]
  },
  {
   "cell_type": "code",
   "execution_count": null,
   "id": "b7683c37-2b5a-4569-96fd-1f0c69314b9b",
   "metadata": {
    "tags": []
   },
   "outputs": [],
   "source": [
    "questions_by_batch = []\n",
    "question_ids_included = set()\n",
    "all_question_ids = set(range(len(questions)))\n",
    "all_dependencies = [item[\"questions that should be asked before this one\"] for item in dep_tree]\n",
    "\n",
    "while question_ids_included != all_question_ids:\n",
    "    questions_in_order = []\n",
    "    questions_ids_in_previous_batch = question_ids_included.copy()\n",
    "\n",
    "    for i, (question, current_dependencies) in enumerate(zip(questions, all_dependencies)):\n",
    "        if i in question_ids_included:\n",
    "            continue\n",
    "            \n",
    "        if set(current_dependencies).issubset(questions_ids_in_previous_batch):\n",
    "            question_ids_included.add(i)\n",
    "            questions_in_order.append(question)\n",
    "\n",
    "    questions_by_batch.append(questions_in_order)\n",
    "    \n",
    "questions_by_batch"
   ]
  },
  {
   "cell_type": "code",
   "execution_count": null,
   "id": "cb0adfd4-8809-4cdd-9374-be67c6093dda",
   "metadata": {},
   "outputs": [],
   "source": []
  },
  {
   "cell_type": "code",
   "execution_count": null,
   "id": "232ed3ef-1f73-4801-8067-f56dcc0db32d",
   "metadata": {
    "tags": []
   },
   "outputs": [],
   "source": [
    "questions"
   ]
  },
  {
   "cell_type": "code",
   "execution_count": null,
   "id": "a4b208e8-597b-4aa2-ab2e-74df7a038ab9",
   "metadata": {},
   "outputs": [],
   "source": []
  }
 ],
 "metadata": {
  "kernelspec": {
   "display_name": "assistance",
   "language": "python",
   "name": "assistance"
  },
  "language_info": {
   "codemirror_mode": {
    "name": "ipython",
    "version": 3
   },
   "file_extension": ".py",
   "mimetype": "text/x-python",
   "name": "python",
   "nbconvert_exporter": "python",
   "pygments_lexer": "ipython3",
   "version": "3.11.2"
  }
 },
 "nbformat": 4,
 "nbformat_minor": 5
}
