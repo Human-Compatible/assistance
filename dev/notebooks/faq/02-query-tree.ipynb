{
 "cells": [
  {
   "cell_type": "code",
   "execution_count": null,
   "id": "3249f3c8-74b0-4728-b0d9-da2df4d53534",
   "metadata": {
    "tags": []
   },
   "outputs": [],
   "source": [
    "import logging\n",
    "from importlib import reload\n",
    "\n",
    "reload(logging)\n",
    "logging.basicConfig(\n",
    "    level=logging.INFO,\n",
    "    format=\"%(asctime)s.%(msecs)d %(levelname)s: %(message)s\",\n",
    "    datefmt=\"%Y-%m-%d %H:%M:%S\",\n",
    ")"
   ]
  },
  {
   "cell_type": "code",
   "execution_count": null,
   "id": "334a2be4-26e2-4248-b0ad-32c850f113ce",
   "metadata": {
    "tags": []
   },
   "outputs": [],
   "source": [
    "%load_ext autoreload\n",
    "%autoreload 2"
   ]
  },
  {
   "cell_type": "code",
   "execution_count": null,
   "id": "84667c58-c8e8-4ce8-a81a-2135d04d13b1",
   "metadata": {
    "tags": []
   },
   "outputs": [],
   "source": [
    "from assistance import _ctx\n",
    "from assistance._keys import get_openai_api_key"
   ]
  },
  {
   "cell_type": "code",
   "execution_count": null,
   "id": "6a20aace-460a-4968-83e8-e7c83eca21e5",
   "metadata": {
    "tags": []
   },
   "outputs": [],
   "source": [
    "from assistance._faq.least_to_most import get_sub_questions"
   ]
  },
  {
   "cell_type": "code",
   "execution_count": null,
   "id": "ab6d98e2-1d7f-4a9c-a077-c271a5730dde",
   "metadata": {
    "tags": []
   },
   "outputs": [],
   "source": [
    "_ctx.open_session()\n",
    "OPEN_AI_API_KEY = get_openai_api_key()"
   ]
  },
  {
   "cell_type": "code",
   "execution_count": null,
   "id": "e5be3638-4415-4da9-821c-24bb913e6ab3",
   "metadata": {
    "tags": []
   },
   "outputs": [],
   "source": [
    "await get_sub_questions(\"test\", \"Who is older, my mother, or the current president of the USA?\")"
   ]
  },
  {
   "cell_type": "code",
   "execution_count": null,
   "id": "d505769c-3cea-416d-bd21-84f572d1b143",
   "metadata": {},
   "outputs": [],
   "source": []
  }
 ],
 "metadata": {
  "kernelspec": {
   "display_name": "assistance",
   "language": "python",
   "name": "assistance"
  },
  "language_info": {
   "codemirror_mode": {
    "name": "ipython",
    "version": 3
   },
   "file_extension": ".py",
   "mimetype": "text/x-python",
   "name": "python",
   "nbconvert_exporter": "python",
   "pygments_lexer": "ipython3",
   "version": "3.11.2"
  }
 },
 "nbformat": 4,
 "nbformat_minor": 5
}
