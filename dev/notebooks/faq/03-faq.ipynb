{
 "cells": [
  {
   "cell_type": "code",
   "execution_count": null,
   "id": "97e4c4b4-2ea4-4f22-9540-a89f07afa18e",
   "metadata": {},
   "outputs": [],
   "source": [
    "import logging\n",
    "from importlib import reload\n",
    "\n",
    "reload(logging)\n",
    "logging.basicConfig(\n",
    "    level=logging.INFO,\n",
    "    format=\"%(asctime)s.%(msecs)d %(levelname)s: %(message)s\",\n",
    "    datefmt=\"%Y-%m-%d %H:%M:%S\",\n",
    ")"
   ]
  },
  {
   "cell_type": "code",
   "execution_count": null,
   "id": "4246094c-445e-4916-8eb1-a1df5db6952f",
   "metadata": {
    "tags": []
   },
   "outputs": [],
   "source": [
    "%load_ext autoreload\n",
    "%autoreload 2"
   ]
  },
  {
   "cell_type": "code",
   "execution_count": null,
   "id": "f67a8842-22f7-4780-8acf-78f01214184d",
   "metadata": {
    "tags": []
   },
   "outputs": [],
   "source": [
    "from assistance import _ctx\n",
    "from assistance._faq.answer import write_answer\n",
    "from assistance._config import load_faq_data\n",
    "from assistance._keys import get_openai_api_key"
   ]
  },
  {
   "cell_type": "code",
   "execution_count": null,
   "id": "135b9dfb-1e08-477d-937a-bba272b2e856",
   "metadata": {
    "tags": []
   },
   "outputs": [],
   "source": [
    "_ctx.open_session()"
   ]
  },
  {
   "cell_type": "code",
   "execution_count": null,
   "id": "bfdb1c26-56bd-40ce-9641-05314695bd32",
   "metadata": {},
   "outputs": [],
   "source": []
  },
  {
   "cell_type": "code",
   "execution_count": null,
   "id": "07d719ec-01e3-422a-bbdc-b81c8f20af16",
   "metadata": {
    "tags": []
   },
   "outputs": [],
   "source": [
    "scope = \"test\"\n",
    "faq_data = await load_faq_data('jims-ac')"
   ]
  },
  {
   "cell_type": "code",
   "execution_count": null,
   "id": "406bd431-9261-4326-b0f5-44428f4b63be",
   "metadata": {
    "tags": []
   },
   "outputs": [],
   "source": [
    "await write_answer(scope, faq_data, \"Does this course give me the ability to have permanent residency?\")"
   ]
  },
  {
   "cell_type": "code",
   "execution_count": null,
   "id": "b35b47ce-1d32-44ec-8a0a-4a534832b8e2",
   "metadata": {},
   "outputs": [],
   "source": []
  },
  {
   "cell_type": "code",
   "execution_count": null,
   "id": "222549f9-6187-453b-ab60-6bb649ad0418",
   "metadata": {},
   "outputs": [],
   "source": []
  },
  {
   "cell_type": "code",
   "execution_count": null,
   "id": "14fb7fef-4723-4911-86ee-e04e2851d4a9",
   "metadata": {},
   "outputs": [],
   "source": []
  },
  {
   "cell_type": "code",
   "execution_count": null,
   "id": "125dd8f0-6627-41cc-9851-c0e38dca0148",
   "metadata": {},
   "outputs": [],
   "source": []
  },
  {
   "cell_type": "code",
   "execution_count": null,
   "id": "8b7340df-f9be-40ba-9295-02889709bfdc",
   "metadata": {},
   "outputs": [],
   "source": []
  }
 ],
 "metadata": {
  "kernelspec": {
   "display_name": "assistance",
   "language": "python",
   "name": "assistance"
  },
  "language_info": {
   "codemirror_mode": {
    "name": "ipython",
    "version": 3
   },
   "file_extension": ".py",
   "mimetype": "text/x-python",
   "name": "python",
   "nbconvert_exporter": "python",
   "pygments_lexer": "ipython3",
   "version": "3.11.2"
  }
 },
 "nbformat": 4,
 "nbformat_minor": 5
}
