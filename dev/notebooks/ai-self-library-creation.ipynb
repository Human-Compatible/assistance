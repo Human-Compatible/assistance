{
 "cells": [
  {
   "cell_type": "markdown",
   "id": "c3ddcbbb-fc6a-4024-ae5e-475539ef57be",
   "metadata": {},
   "source": [
    "# AI self software library creation 🤯\n",
    "\n",
    "This is a demonstration of an LLM writing its own software library.\n",
    "\n",
    "It re-uses functions that it has created previously, and all software is run within a WASI sandbox. A software exectution security sandbox that is similar to the sandbox that allows website to safetly run code on your machine."
   ]
  },
  {
   "cell_type": "code",
   "execution_count": null,
   "id": "14c478ac-ce98-4c6c-bcc6-71a3de80ecd0",
   "metadata": {
    "tags": []
   },
   "outputs": [],
   "source": [
    "import sys\n",
    "if sys.version_info.minor < 11:\n",
    "    raise ValueError(\"We need Python 3.11 for this to work\")"
   ]
  },
  {
   "cell_type": "code",
   "execution_count": null,
   "id": "355302b3-f1d3-4567-ab51-ea019df63357",
   "metadata": {
    "tags": []
   },
   "outputs": [],
   "source": [
    "import os\n",
    "import getpass\n",
    "import site"
   ]
  },
  {
   "cell_type": "code",
   "execution_count": null,
   "id": "ea12bac8-46d9-4a54-8c13-76d493f92b03",
   "metadata": {
    "tags": []
   },
   "outputs": [],
   "source": [
    "%load_ext autoreload\n",
    "%autoreload 2"
   ]
  },
  {
   "cell_type": "code",
   "execution_count": null,
   "id": "38520ba5-c724-4c36-a39c-6b5ba2312cff",
   "metadata": {
    "tags": []
   },
   "outputs": [],
   "source": [
    "# os.environ[\"OPENAI_API_KEY\"] = getpass.getpass(\"Provide your OpenAI API Key: \")"
   ]
  },
  {
   "cell_type": "code",
   "execution_count": null,
   "id": "1bdace8d-7d6d-4aab-bdd8-7b16f24b3f9d",
   "metadata": {
    "tags": []
   },
   "outputs": [],
   "source": [
    "site_packages = site.getsitepackages()\n",
    "assert len(site_packages) == 1, \"Only one site-package supported for now\""
   ]
  },
  {
   "cell_type": "markdown",
   "id": "bc13de5b-5510-46e7-abbd-36ce32781b9f",
   "metadata": {},
   "source": [
    "## Initial set up\n",
    "\n",
    "### Install the assistance library"
   ]
  },
  {
   "cell_type": "code",
   "execution_count": null,
   "id": "8b0adc64-577b-49d8-b454-3babcfe31c5c",
   "metadata": {
    "tags": []
   },
   "outputs": [],
   "source": [
    "# TODO: Make it use the deployed version\n",
    "# !pip install -e $HOME/git/assistance"
   ]
  },
  {
   "cell_type": "markdown",
   "id": "0bbe32c8-3f4c-47f1-b5c2-cdf7bf4bbc79",
   "metadata": {},
   "source": [
    "## Download and test the WASI sandbox that the AI will run its code within"
   ]
  },
  {
   "cell_type": "code",
   "execution_count": null,
   "id": "6888e6b2-6b0c-4470-920c-0fb435aa1228",
   "metadata": {
    "tags": []
   },
   "outputs": [],
   "source": [
    "# !curl https://wasmtime.dev/install.sh -sSf | bash\n",
    "# !source ~/.bashrc"
   ]
  },
  {
   "cell_type": "code",
   "execution_count": null,
   "id": "a0fd4f13-2954-42dd-a1b2-cf36a68c95e4",
   "metadata": {
    "tags": []
   },
   "outputs": [],
   "source": [
    "# !wget https://github.com/assistancechat/assistance/releases/download/python-wasm/python-3.11.1.wasm -O ~/.assistance/wasm/python.wasm"
   ]
  },
  {
   "cell_type": "markdown",
   "id": "efed1dc3-0408-4053-ba37-3141a8e38224",
   "metadata": {},
   "source": [
    "### Testing that it works\n",
    "\n",
    "A basic hello world:"
   ]
  },
  {
   "cell_type": "code",
   "execution_count": null,
   "id": "aefb33c8-2afb-4eac-92f7-6c1632b543cf",
   "metadata": {
    "tags": []
   },
   "outputs": [],
   "source": [
    "# # os.environ[\"SET_ENV\"] = \"PYTHONPATH=/site-packages\"\n",
    "# # os.environ[\"SET_MAPDIR\"] = f\"/site-packages::{site_packages[0]}\"\n",
    "\n",
    "# # Use something like the following instead if running from within git directory\n",
    "# os.environ[\"SET_ENV\"] = \"PYTHONPATH=/assistance:/assistance/.venv/lib/python3.11/site-packages\"\n",
    "# os.environ[\"SET_MAPDIR\"] = f\"/assistance::{os.environ['HOME']}/git/assistance\""
   ]
  },
  {
   "cell_type": "code",
   "execution_count": null,
   "id": "edf730a6-b87e-4b99-9b33-7f371c7d325a",
   "metadata": {
    "tags": []
   },
   "outputs": [],
   "source": [
    "# !wasmtime \\\n",
    "#   --env $SET_ENV \\\n",
    "#   --mapdir $SET_MAPDIR \\\n",
    "#   ~/.assistance/wasm/python.wasm \\\n",
    "#   -- -c \"print('Hello world! This is running within a sandboxed Python, within WASI!')\""
   ]
  },
  {
   "cell_type": "markdown",
   "id": "59367303-f501-4b1d-8adf-fffefcc06bbf",
   "metadata": {},
   "source": [
    "Making sure we can import from the assistance library"
   ]
  },
  {
   "cell_type": "code",
   "execution_count": null,
   "id": "ed22db20-0c6a-4f64-b594-f36cb043bfde",
   "metadata": {
    "tags": []
   },
   "outputs": [],
   "source": [
    "# !wasmtime \\\n",
    "#   --env $SET_ENV \\\n",
    "#   --mapdir $SET_MAPDIR \\\n",
    "#   ~/.assistance/wasm/python.wasm \\\n",
    "#   -- -c \"import assistance; print(assistance.__version__)\""
   ]
  },
  {
   "cell_type": "code",
   "execution_count": null,
   "id": "ad4fb29f-8ae4-4f5e-92c4-07df06b43470",
   "metadata": {},
   "outputs": [],
   "source": []
  },
  {
   "cell_type": "code",
   "execution_count": null,
   "id": "afb40323-db92-4abe-b2d2-994ac86a3c43",
   "metadata": {
    "tags": []
   },
   "outputs": [],
   "source": [
    "import logging\n",
    "from importlib import reload\n",
    "\n",
    "reload(logging)\n",
    "logging.basicConfig(\n",
    "    level=logging.INFO,\n",
    "    format=\"%(asctime)s.%(msecs)d %(levelname)s: %(message)s\",\n",
    "    datefmt=\"%Y-%m-%d %H:%M:%S\",\n",
    ")"
   ]
  },
  {
   "cell_type": "code",
   "execution_count": null,
   "id": "cda54a49-ea3d-47d9-896b-d7444ecc1b13",
   "metadata": {
    "tags": []
   },
   "outputs": [],
   "source": [
    "from assistance._ai.controller.generate_docstrings import generate_docstrings_tree"
   ]
  },
  {
   "cell_type": "code",
   "execution_count": null,
   "id": "cbe59627-3dcc-42cd-befc-62cd24fdca15",
   "metadata": {},
   "outputs": [],
   "source": [
    "scope = \"test\"\n",
    "task = \"\"\"Create a game of life simulation\n",
    "\n",
    "- Use IPython display calls\n",
    "- Apart from IPython, only use the Python standard library\n",
    "- Have it be randomly initialised\n",
    "- Make sure that the board refreshes appropriately with IPython display calls\"\"\"\n",
    "\n",
    "# task = \"4 + 5\"\n",
    "\n",
    "tree = await generate_docstrings_tree(scope, task)\n",
    "\n",
    "tree"
   ]
  },
  {
   "cell_type": "code",
   "execution_count": null,
   "id": "8d65b888-6080-4204-9b6a-2fb5d1c4aa67",
   "metadata": {},
   "outputs": [],
   "source": []
  },
  {
   "cell_type": "code",
   "execution_count": null,
   "id": "2612f19a-8061-420e-9faf-011e52d66507",
   "metadata": {},
   "outputs": [],
   "source": []
  },
  {
   "cell_type": "code",
   "execution_count": null,
   "id": "4d417bb1-ae3b-4a10-8887-d0ec23b02705",
   "metadata": {},
   "outputs": [],
   "source": []
  }
 ],
 "metadata": {
  "kernelspec": {
   "display_name": "assistance",
   "language": "python",
   "name": "assistance"
  },
  "language_info": {
   "codemirror_mode": {
    "name": "ipython",
    "version": 3
   },
   "file_extension": ".py",
   "mimetype": "text/x-python",
   "name": "python",
   "nbconvert_exporter": "python",
   "pygments_lexer": "ipython3",
   "version": "3.11.2"
  }
 },
 "nbformat": 4,
 "nbformat_minor": 5
}
