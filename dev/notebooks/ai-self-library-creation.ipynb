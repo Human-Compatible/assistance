{
 "cells": [
  {
   "cell_type": "markdown",
   "id": "c3ddcbbb-fc6a-4024-ae5e-475539ef57be",
   "metadata": {},
   "source": [
    "# AI self library creation 🤯\n",
    "\n",
    "This is a demonstration of an LLM writing its own software library.\n",
    "\n",
    "It re-uses functions that it has created previously, and all software is run within a WASI sandbox. A software exectution security sandbox that is similar to the sandbox that allows website to safetly run code on your machine."
   ]
  },
  {
   "cell_type": "code",
   "execution_count": null,
   "id": "ea12bac8-46d9-4a54-8c13-76d493f92b03",
   "metadata": {
    "tags": []
   },
   "outputs": [],
   "source": [
    "%load_ext autoreload\n",
    "%autoreload 2"
   ]
  },
  {
   "cell_type": "code",
   "execution_count": null,
   "id": "6f6163d6-cbec-43c2-bd95-617932dd2918",
   "metadata": {
    "tags": []
   },
   "outputs": [],
   "source": [
    "# TODO: Download the assistance git repo at the given tested commit hash\n",
    "# TODO: Install the assistance library\n",
    "# Clone to $HOME/git/assistance (if the folder doesn't exist already)\n",
    "# Install poetry, and create .venv"
   ]
  },
  {
   "cell_type": "markdown",
   "id": "0bbe32c8-3f4c-47f1-b5c2-cdf7bf4bbc79",
   "metadata": {},
   "source": [
    "## Download and test the WASI sandbox that the AI will run its code within"
   ]
  },
  {
   "cell_type": "code",
   "execution_count": null,
   "id": "6888e6b2-6b0c-4470-920c-0fb435aa1228",
   "metadata": {
    "tags": []
   },
   "outputs": [],
   "source": [
    "!curl https://wasmtime.dev/install.sh -sSf | bash\n",
    "!source ~/.bashrc"
   ]
  },
  {
   "cell_type": "code",
   "execution_count": null,
   "id": "a0fd4f13-2954-42dd-a1b2-cf36a68c95e4",
   "metadata": {
    "tags": []
   },
   "outputs": [],
   "source": [
    "!wget https://github.com/assistancechat/assistance/releases/download/python-wasm/python-3.11.1.wasm -O ~/.assistance/wasm/python.wasm"
   ]
  },
  {
   "cell_type": "code",
   "execution_count": null,
   "id": "edf730a6-b87e-4b99-9b33-7f371c7d325a",
   "metadata": {
    "tags": []
   },
   "outputs": [],
   "source": [
    "!wasmtime \\\n",
    "  --env PYTHONPATH=/assistance:/assistance/.venv/lib/python3.11/site-packages \\\n",
    "  --mapdir /assistance::$HOME/git/assistance \\\n",
    "  ~/.assistance/wasm/python.wasm \\\n",
    "  -- -c \"print('Hello world! This is running within a sandboxed Python, within WASI!')\""
   ]
  },
  {
   "cell_type": "code",
   "execution_count": null,
   "id": "505da1f8-ad88-43ca-8ae7-3225302eb89f",
   "metadata": {},
   "outputs": [],
   "source": []
  }
 ],
 "metadata": {
  "kernelspec": {
   "display_name": "assistance",
   "language": "python",
   "name": "assistance"
  },
  "language_info": {
   "codemirror_mode": {
    "name": "ipython",
    "version": 3
   },
   "file_extension": ".py",
   "mimetype": "text/x-python",
   "name": "python",
   "nbconvert_exporter": "python",
   "pygments_lexer": "ipython3",
   "version": "3.11.2"
  }
 },
 "nbformat": 4,
 "nbformat_minor": 5
}
