{
 "cells": [
  {
   "cell_type": "code",
   "execution_count": null,
   "id": "e80c0a08-c566-4cd0-9b9a-b2bba7535377",
   "metadata": {
    "tags": []
   },
   "outputs": [],
   "source": [
    "%load_ext autoreload\n",
    "%autoreload 2"
   ]
  },
  {
   "cell_type": "code",
   "execution_count": null,
   "id": "7df04565-1db7-4110-85f5-38464263fc46",
   "metadata": {
    "tags": []
   },
   "outputs": [],
   "source": [
    "from assistance._config import load_form_config, get_form_entries, get_complete_form_progression_keys\n",
    "from assistance._forms.build import walk_and_build_form_fields\n",
    "from assistance._forms.progression import get_task_for_current_stage"
   ]
  },
  {
   "cell_type": "code",
   "execution_count": null,
   "id": "aa6ac953-bd9b-4f78-bc01-97d160912335",
   "metadata": {},
   "outputs": [],
   "source": []
  },
  {
   "cell_type": "code",
   "execution_count": null,
   "id": "833adacd-63f6-431f-ae62-3acd2797131c",
   "metadata": {
    "tags": []
   },
   "outputs": [],
   "source": [
    "form_name = \"jims-ac\"\n",
    "user_email = \"me@simonbiggs.net\""
   ]
  },
  {
   "cell_type": "code",
   "execution_count": null,
   "id": "d37067d1-6cab-45f6-a353-764f5aac0071",
   "metadata": {},
   "outputs": [],
   "source": []
  },
  {
   "cell_type": "code",
   "execution_count": null,
   "id": "bf52ef28-374c-4056-bded-3020cdeb33c5",
   "metadata": {
    "tags": []
   },
   "outputs": [],
   "source": [
    "cfg = await load_form_config(form_name)"
   ]
  },
  {
   "cell_type": "code",
   "execution_count": null,
   "id": "f864d3dd-4aa6-4391-87e5-36e5d58cf47d",
   "metadata": {
    "tags": []
   },
   "outputs": [],
   "source": [
    "form_entries = await get_form_entries(form_name, user_email)\n",
    "form_entries"
   ]
  },
  {
   "cell_type": "code",
   "execution_count": null,
   "id": "9a687ade-9cad-4208-8bfe-bb7c65d84ade",
   "metadata": {
    "tags": []
   },
   "outputs": [],
   "source": [
    "form_progression = await get_complete_form_progression_keys(form_name, user_email)\n",
    "form_progression"
   ]
  },
  {
   "cell_type": "code",
   "execution_count": null,
   "id": "01736e26-c04c-41f4-8dc1-23cd8a09b945",
   "metadata": {
    "tags": []
   },
   "outputs": [],
   "source": [
    "get_task_for_current_stage(cfg['progression'], form_progression)"
   ]
  },
  {
   "cell_type": "code",
   "execution_count": null,
   "id": "cda88e6e-d58b-4baf-a217-2aac08d70a21",
   "metadata": {
    "tags": []
   },
   "outputs": [],
   "source": []
  },
  {
   "cell_type": "code",
   "execution_count": null,
   "id": "fcc8e0c1-b568-41d2-8f9b-d67fbfe2d531",
   "metadata": {
    "tags": []
   },
   "outputs": [],
   "source": [
    "print(walk_and_build_form_fields(cfg['field'], allow=set()))"
   ]
  },
  {
   "cell_type": "code",
   "execution_count": null,
   "id": "29c7d386-2f0a-469e-98d5-e04b43434e05",
   "metadata": {
    "tags": []
   },
   "outputs": [],
   "source": [
    "print(walk_and_build_form_fields(cfg['field'], allow=form_entries, form_entries=form_entries, text_format=\"results\"))"
   ]
  },
  {
   "cell_type": "code",
   "execution_count": null,
   "id": "67c1fc2b-3cf3-4f6c-a4be-996e701e8c12",
   "metadata": {
    "tags": []
   },
   "outputs": [],
   "source": [
    "print(walk_and_build_form_fields(cfg['field'], allow=form_entries, form_entries=form_entries, text_format=\"description-only\"))"
   ]
  },
  {
   "cell_type": "code",
   "execution_count": null,
   "id": "ff9eafef-d257-4b60-b76c-17bb52641460",
   "metadata": {
    "tags": []
   },
   "outputs": [],
   "source": [
    "print(walk_and_build_form_fields(cfg['field'], ignore=set(form_entries)))"
   ]
  },
  {
   "cell_type": "code",
   "execution_count": null,
   "id": "fa832ac6-d0de-4dce-b514-53aba5993749",
   "metadata": {},
   "outputs": [],
   "source": []
  }
 ],
 "metadata": {
  "kernelspec": {
   "display_name": "assistance",
   "language": "python",
   "name": "assistance"
  },
  "language_info": {
   "codemirror_mode": {
    "name": "ipython",
    "version": 3
   },
   "file_extension": ".py",
   "mimetype": "text/x-python",
   "name": "python",
   "nbconvert_exporter": "python",
   "pygments_lexer": "ipython3",
   "version": "3.11.2"
  }
 },
 "nbformat": 4,
 "nbformat_minor": 5
}
