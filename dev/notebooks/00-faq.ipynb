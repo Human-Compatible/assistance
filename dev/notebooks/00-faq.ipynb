{
 "cells": [
  {
   "cell_type": "code",
   "execution_count": null,
   "id": "31e89a5a-c845-4874-99f3-907f3414d97b",
   "metadata": {
    "tags": []
   },
   "outputs": [],
   "source": [
    "import openai\n",
    "import torch\n",
    "import asyncio\n",
    "import functools"
   ]
  },
  {
   "cell_type": "code",
   "execution_count": null,
   "id": "4246094c-445e-4916-8eb1-a1df5db6952f",
   "metadata": {
    "tags": []
   },
   "outputs": [],
   "source": [
    "%load_ext autoreload\n",
    "%autoreload 2"
   ]
  },
  {
   "cell_type": "code",
   "execution_count": null,
   "id": "f67a8842-22f7-4780-8acf-78f01214184d",
   "metadata": {
    "tags": []
   },
   "outputs": [],
   "source": [
    "from assistance import _ctx\n",
    "from assistance._config import load_faq_data\n",
    "from assistance._keys import get_openai_api_key\n",
    "from assistance._openai import get_embedding"
   ]
  },
  {
   "cell_type": "code",
   "execution_count": null,
   "id": "135b9dfb-1e08-477d-937a-bba272b2e856",
   "metadata": {
    "tags": []
   },
   "outputs": [],
   "source": [
    "_ctx.open_session()\n",
    "OPEN_AI_API_KEY = get_openai_api_key()"
   ]
  },
  {
   "cell_type": "code",
   "execution_count": null,
   "id": "7054cf7e-912f-4e5e-a0a7-4d054424f49e",
   "metadata": {},
   "outputs": [],
   "source": []
  },
  {
   "cell_type": "code",
   "execution_count": null,
   "id": "07d719ec-01e3-422a-bbdc-b81c8f20af16",
   "metadata": {
    "tags": []
   },
   "outputs": [],
   "source": [
    "faq_data = await load_faq_data('jims-ac')"
   ]
  },
  {
   "cell_type": "code",
   "execution_count": null,
   "id": "e1b165dc-6d2b-4a4c-bbec-5198fa5e1774",
   "metadata": {
    "tags": []
   },
   "outputs": [],
   "source": [
    "question = faq_data['items'][0][\"question\"]\n",
    "question"
   ]
  },
  {
   "cell_type": "code",
   "execution_count": null,
   "id": "51218b81-ffa9-403e-8a16-d898c1bc2832",
   "metadata": {
    "tags": []
   },
   "outputs": [],
   "source": [
    "all_questions = tuple([item['question'] for item in faq_data['items']])\n",
    "# all_questions"
   ]
  },
  {
   "cell_type": "code",
   "execution_count": null,
   "id": "9050d10c-d2ab-4d36-bba4-d6f84e8b8775",
   "metadata": {
    "tags": []
   },
   "outputs": [],
   "source": []
  },
  {
   "cell_type": "code",
   "execution_count": null,
   "id": "96387484-c370-4776-a9c2-a62f7f870698",
   "metadata": {
    "tags": []
   },
   "outputs": [],
   "source": [
    "# embeddings = await asyncio.gather(*[_get_embedding(question) for question in all_questions])"
   ]
  },
  {
   "cell_type": "code",
   "execution_count": null,
   "id": "636fb76e-fcb0-469c-8456-75527904b6ee",
   "metadata": {
    "tags": []
   },
   "outputs": [],
   "source": [
    "# embeddings"
   ]
  },
  {
   "cell_type": "code",
   "execution_count": null,
   "id": "b700e8d9-8228-4252-93d1-3d66c481f8cf",
   "metadata": {
    "tags": []
   },
   "outputs": [],
   "source": [
    "async def _get_cuda_embedding(question: str) -> torch.Tensor:\n",
    "    embedding = await get_embedding(block=question, api_key=OPEN_AI_API_KEY)\n",
    "    return torch.tensor([embedding], device=\"cuda\")"
   ]
  },
  {
   "cell_type": "code",
   "execution_count": null,
   "id": "da5296cf-15cd-4d94-9b76-1f57ce875180",
   "metadata": {
    "tags": []
   },
   "outputs": [],
   "source": [
    "async def _get_cuda_embeddings(questions: str) -> torch.Tensor:\n",
    "    embeddings = await asyncio.gather(*[get_embedding(block=question, api_key=OPEN_AI_API_KEY) for question in all_questions])\n",
    "    return torch.tensor(embeddings, device=\"cuda\")"
   ]
  },
  {
   "cell_type": "code",
   "execution_count": null,
   "id": "01ad585c-f48c-474b-bd7a-5d985ca7e6dc",
   "metadata": {
    "tags": []
   },
   "outputs": [],
   "source": [
    "embeddings = await _get_cuda_embeddings(all_questions)"
   ]
  },
  {
   "cell_type": "code",
   "execution_count": null,
   "id": "155818ab-f68b-4d55-8456-5732fe78ff55",
   "metadata": {
    "tags": []
   },
   "outputs": [],
   "source": [
    "embeddings"
   ]
  },
  {
   "cell_type": "code",
   "execution_count": null,
   "id": "3779ff8b-78c8-4899-8146-d84e3bc8b8a1",
   "metadata": {
    "tags": []
   },
   "outputs": [],
   "source": [
    "embeddings[0, :]"
   ]
  },
  {
   "cell_type": "code",
   "execution_count": null,
   "id": "2f1b1ff8-fabc-4dfa-bcd0-4e21a056a372",
   "metadata": {
    "tags": []
   },
   "outputs": [],
   "source": [
    "query = await _get_cuda_embedding(\"What sort of age limits are there?\")"
   ]
  },
  {
   "cell_type": "code",
   "execution_count": null,
   "id": "a073c051-8213-44b3-a8ba-24f26695fee1",
   "metadata": {
    "tags": []
   },
   "outputs": [],
   "source": [
    "query.shape"
   ]
  },
  {
   "cell_type": "code",
   "execution_count": null,
   "id": "7340e107-b3fe-4a57-8e01-5bab80b04909",
   "metadata": {
    "tags": []
   },
   "outputs": [],
   "source": [
    "@torch.jit.script\n",
    "def _top_k_embeddings(query, embeddings, k):\n",
    "    transpose_query = query.T\n",
    "    embeddings_norm = torch.linalg.norm(embeddings, dim=1, keepdim=True)\n",
    "    query_norm = torch.linalg.norm(transpose_query, dim=0, keepdim=True)\n",
    "    \n",
    "    cosine_similarity = ((embeddings @ transpose_query) / (embeddings_norm @ query_norm)).T\n",
    "    \n",
    "    return torch.topk(cosine_similarity, k)"
   ]
  },
  {
   "cell_type": "code",
   "execution_count": null,
   "id": "b45b9909-c8bc-4db5-9f9b-bc5334673155",
   "metadata": {
    "tags": []
   },
   "outputs": [],
   "source": [
    "def top_k_embeddings(query, embeddings, k):\n",
    "    k = torch.tensor(k, device=\"cuda\")\n",
    "    cosine_similarity, index = _top_k_embeddings(query, embeddings, k)\n",
    "    \n",
    "    index = index.tolist()\n",
    "    cosine_similarity = cosine_similarity.tolist()\n",
    "    \n",
    "    assert len(index) == 1\n",
    "    assert len(cosine_similarity) == 1\n",
    "    \n",
    "    return index[0], cosine_similarity[0]"
   ]
  },
  {
   "cell_type": "code",
   "execution_count": null,
   "id": "e9136c5c-167d-4921-8cd4-c797c3acfb6c",
   "metadata": {
    "tags": []
   },
   "outputs": [],
   "source": [
    "indices, scores = top_k_embeddings(query, embeddings, 3)"
   ]
  },
  {
   "cell_type": "code",
   "execution_count": null,
   "id": "3279daf6-40d6-4ef1-a78d-584a2e5a2703",
   "metadata": {
    "tags": []
   },
   "outputs": [],
   "source": [
    "scores"
   ]
  },
  {
   "cell_type": "code",
   "execution_count": null,
   "id": "c4ec7e4a-a41e-40f6-a469-981f9a039c7c",
   "metadata": {
    "tags": []
   },
   "outputs": [],
   "source": [
    "indices"
   ]
  },
  {
   "cell_type": "code",
   "execution_count": null,
   "id": "4bbdc1f2-0dcc-4882-aa55-b0a36e7363d2",
   "metadata": {
    "tags": []
   },
   "outputs": [],
   "source": [
    "[all_questions[i] for i in indices]"
   ]
  },
  {
   "cell_type": "code",
   "execution_count": null,
   "id": "0b4613ea-db07-4384-b020-8c8213837f19",
   "metadata": {
    "tags": []
   },
   "outputs": [],
   "source": [
    "async def get_top_questions_and_answers(faq_data, embeddings, query, k=3):\n",
    "    query_embedding = await _get_cuda_embedding(query)\n",
    "    \n",
    "    indices, scores = top_k_embeddings(query_embedding, embeddings, k)\n",
    "    \n",
    "    return [faq_data['items'][i] for i in indices]   "
   ]
  },
  {
   "cell_type": "code",
   "execution_count": null,
   "id": "00241f01-bf2f-4e64-aabc-2e3eaad338b2",
   "metadata": {
    "tags": []
   },
   "outputs": [],
   "source": [
    "query = \"What if I have turned 50? Is there any issues there?\"\n",
    "await get_top_questions_and_answers(faq_data, embeddings, query)"
   ]
  },
  {
   "cell_type": "code",
   "execution_count": null,
   "id": "7cab1e5b-d6dd-4fb4-a135-8d73275e5437",
   "metadata": {},
   "outputs": [],
   "source": []
  },
  {
   "cell_type": "code",
   "execution_count": null,
   "id": "68655189-eb3c-4603-ae06-d729a2bc267a",
   "metadata": {},
   "outputs": [],
   "source": []
  },
  {
   "cell_type": "code",
   "execution_count": null,
   "id": "b83e84dc-dcf2-488b-80a7-b48ffd60e75d",
   "metadata": {},
   "outputs": [],
   "source": []
  },
  {
   "cell_type": "code",
   "execution_count": null,
   "id": "5aa04045-4a2f-4f1d-bf1a-fe40eb016b86",
   "metadata": {
    "tags": []
   },
   "outputs": [],
   "source": [
    "list(query)"
   ]
  },
  {
   "cell_type": "code",
   "execution_count": null,
   "id": "7e18844c-e6e9-4dd3-aa3b-6fdb20a5a341",
   "metadata": {
    "tags": []
   },
   "outputs": [],
   "source": [
    "embeddings.shape"
   ]
  },
  {
   "cell_type": "code",
   "execution_count": null,
   "id": "58a85d7d-5740-46a9-a691-5b60b5c83793",
   "metadata": {},
   "outputs": [],
   "source": []
  },
  {
   "cell_type": "code",
   "execution_count": null,
   "id": "daa1169b-f0c4-4024-b889-85f52088efce",
   "metadata": {
    "tags": []
   },
   "outputs": [],
   "source": [
    "query.size()"
   ]
  },
  {
   "cell_type": "code",
   "execution_count": null,
   "id": "3dde47ab-f9a3-4178-88be-df8ffc15e85b",
   "metadata": {
    "tags": []
   },
   "outputs": [],
   "source": [
    "Z = torch.rand(10, 4)\n",
    "B = Z[0:4].T"
   ]
  },
  {
   "cell_type": "code",
   "execution_count": null,
   "id": "9a24f0d5-79a7-41d3-88df-4406af7af390",
   "metadata": {
    "tags": []
   },
   "outputs": [],
   "source": [
    "Z.size()"
   ]
  },
  {
   "cell_type": "code",
   "execution_count": null,
   "id": "66cd2efb-da1b-44ee-8c5c-5811d30574ac",
   "metadata": {
    "tags": []
   },
   "outputs": [],
   "source": [
    "Z_norm = torch.linalg.norm(Z, dim=1, keepdim=True)  # Size (n, 1).\n",
    "Z_norm.size()"
   ]
  },
  {
   "cell_type": "code",
   "execution_count": null,
   "id": "dfceb7a7-5d10-4e2a-8204-75b13b2cd62c",
   "metadata": {
    "tags": []
   },
   "outputs": [],
   "source": [
    "# result['data'][0]['embedding']"
   ]
  },
  {
   "cell_type": "code",
   "execution_count": null,
   "id": "6bdee95f-1291-49e4-82b3-4aa1635e79ba",
   "metadata": {
    "tags": []
   },
   "outputs": [],
   "source": [
    "Z = torch.rand(10, 4)\n",
    "B = Z[0:4].T\n",
    "\n",
    "Z_norm = torch.linalg.norm(Z, dim=1, keepdim=True)  # Size (n, 1).\n",
    "B_norm = torch.linalg.norm(B, dim=0, keepdim=True)  # Size (1, b).\n",
    "\n",
    "# Distance matrix of size (b, n).\n",
    "cosine_similarity = ((Z @ B) / (Z_norm @ B_norm)).T\n",
    "cosine_distance = 1 - cosine_similarity"
   ]
  },
  {
   "cell_type": "code",
   "execution_count": null,
   "id": "b78577f2-6cba-4766-8a62-194a0d7fbaa5",
   "metadata": {
    "tags": []
   },
   "outputs": [],
   "source": [
    "cosine_similarity"
   ]
  },
  {
   "cell_type": "code",
   "execution_count": null,
   "id": "a6543a72-c6c4-48b0-b63c-96fcab706e72",
   "metadata": {
    "tags": []
   },
   "outputs": [],
   "source": [
    "B"
   ]
  },
  {
   "cell_type": "code",
   "execution_count": null,
   "id": "592a833b-2575-48ee-bd74-33136e8ff286",
   "metadata": {
    "tags": []
   },
   "outputs": [],
   "source": [
    "cosine_distance"
   ]
  }
 ],
 "metadata": {
  "kernelspec": {
   "display_name": "assistance",
   "language": "python",
   "name": "assistance"
  },
  "language_info": {
   "codemirror_mode": {
    "name": "ipython",
    "version": 3
   },
   "file_extension": ".py",
   "mimetype": "text/x-python",
   "name": "python",
   "nbconvert_exporter": "python",
   "pygments_lexer": "ipython3",
   "version": "3.11.2"
  }
 },
 "nbformat": 4,
 "nbformat_minor": 5
}
