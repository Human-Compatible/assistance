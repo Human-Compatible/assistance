{
 "cells": [
  {
   "cell_type": "code",
   "execution_count": null,
   "id": "c4021678-057f-49ac-8255-6b5262737818",
   "metadata": {
    "tags": []
   },
   "outputs": [],
   "source": [
    "%load_ext autoreload\n",
    "%autoreload 2"
   ]
  },
  {
   "cell_type": "code",
   "execution_count": null,
   "id": "450589b1-20fd-4de7-adf2-e963c047685e",
   "metadata": {
    "tags": []
   },
   "outputs": [],
   "source": [
    "import json"
   ]
  },
  {
   "cell_type": "code",
   "execution_count": null,
   "id": "264b1349-5764-4ef9-aee4-702d0cb6b3d5",
   "metadata": {
    "tags": []
   },
   "outputs": [],
   "source": [
    "from assistance._paths import EMAILS\n",
    "from assistance._paths import get_emails_path"
   ]
  },
  {
   "cell_type": "code",
   "execution_count": null,
   "id": "454758ee-009a-45b0-9936-820b29899bcf",
   "metadata": {},
   "outputs": [],
   "source": []
  },
  {
   "cell_type": "code",
   "execution_count": null,
   "id": "84661f00-4404-4da7-892f-1b74fe2df752",
   "metadata": {
    "tags": []
   },
   "outputs": [],
   "source": [
    "receiver = {}\n",
    "\n",
    "for path in EMAILS.glob(\"*/*/*.json\"):\n",
    "    with open(path) as f:\n",
    "        try:\n",
    "            receiver[path.stem] = json.load(f)[\"rcpt_to\"]\n",
    "        except:\n",
    "            pass"
   ]
  },
  {
   "cell_type": "code",
   "execution_count": null,
   "id": "7c936af2-0356-4d29-aa7f-7135140a7674",
   "metadata": {
    "tags": []
   },
   "outputs": [],
   "source": [
    "# email_to_match = \"testing-ac@assistance.chat\"\n",
    "email_to_match = \"jims-ac-faq@assistance.chat\"\n",
    "\n",
    "found_email_hashed = [key for key, item in receiver.items() if item is not None and email_to_match in item]\n",
    "found_email_hashed"
   ]
  },
  {
   "cell_type": "code",
   "execution_count": null,
   "id": "a5b1c6af-63a6-4b9e-9dbc-13d632e5e7b4",
   "metadata": {
    "tags": []
   },
   "outputs": [],
   "source": [
    "# questions_manually_extracted_from = [\n",
    "#     '7bd67956306e8c55ea2453c319421dc7da1afc9d2aac71e93fd5ff6c',\n",
    "#  '1ca477db5f68d93025d8ac1d2f3dd6127d9f569684533ce588c1e30d',\n",
    "#  '2b72380715a9f40c37f348ac762aecb1310f2dd54e5dcf11bb30fc2f',\n",
    "#  'ee31ec339eb483164e8a84fd38836318ae719856be88bd6e046d08e1',\n",
    "#  '130999adfcbe9e3ddd12d116bcf81a3cb6d25a2a27cddd6427e44beb',\n",
    "#  'd7c45b32a0141ceb24b356067a4a7c7c66c577915f9511c05116cb39',\n",
    "#  'a2907ec420bcc224d6241c24b6be2e6b755858ffae06a2dd6efa6537',\n",
    "#  '8299a30e68881853d4d0dff371de12103abe77f5f6f025afeb13f5db',\n",
    "#  'e2e93f646d9c4bebf0d11350955c9ca8f0a70a72408fe93e7862acbf',\n",
    "#  '756de4135a9e3b72f8fae5674d4a8f0eb5cc30a28638022b45d7dbba',\n",
    "#  '726fab4ee44951d3d64f9028f8b56608df6c658f733af6485df9863b',\n",
    "#  '8660e2b3fa47bab143ae72e9068a7d25b9192b100acfbfa736fef38e',\n",
    "#  '1faa3549683bac298840280b74126b230609afc954d15cb152360dfb',\n",
    "#  '72ae9275389086995b7f1bd74fce3d9296c20c113d8c5f070c139c97',\n",
    "#  'da5b3e7e96889a8a864c198c7ae4ccb3dcd34fb08d7daa49a2f53a78',\n",
    "#  'aea84d5e7339c85ef1ed3ea5a934a1d045518f257b7aaf16d6b99578']"
   ]
  },
  {
   "cell_type": "code",
   "execution_count": null,
   "id": "1febe9c9-ca55-4010-aa31-31b5e430fe3b",
   "metadata": {
    "tags": []
   },
   "outputs": [],
   "source": [
    "# for email_hash in found_email_hashed:\n",
    "#     path = get_emails_path(email_hash)\n",
    "    \n",
    "#     with open(path) as f:\n",
    "#         email = json.load(f)\n",
    "        \n",
    "#     content = email[\"plain_body\"] + \"\\n\\n---\\n\\n\" +  email[\"replies_from_plain_body\"]\n",
    "    \n",
    "#     print(content)\n",
    "    \n",
    "#     print(\"\\n\\n\\n-----------------------------------\\n\\n\\n\")\n"
   ]
  },
  {
   "cell_type": "code",
   "execution_count": null,
   "id": "0a8fb169-5f37-485d-bd1c-525e6544fe10",
   "metadata": {
    "tags": []
   },
   "outputs": [],
   "source": [
    "for email_hash in found_email_hashed:\n",
    "    path = get_emails_path(email_hash)\n",
    "    \n",
    "    with open(path) as f:\n",
    "        email = json.load(f)\n",
    "        \n",
    "    content = email[\"plain_body\"] + \"\\n\\n---\\n\\n\" +  email[\"replies_from_plain_body\"]\n",
    "    \n",
    "    print(content)\n",
    "    \n",
    "    print(\"\\n\\n\\n-----------------------------------\\n\\n\\n\")"
   ]
  },
  {
   "cell_type": "code",
   "execution_count": null,
   "id": "ec279cb8-755a-4fa8-a5bb-278d0ff1c080",
   "metadata": {},
   "outputs": [],
   "source": []
  },
  {
   "cell_type": "code",
   "execution_count": null,
   "id": "c4b20b98-2fb8-4af7-83a0-4d999ac9d685",
   "metadata": {},
   "outputs": [],
   "source": []
  },
  {
   "cell_type": "code",
   "execution_count": null,
   "id": "362e4309-a186-4c16-883f-f98197059c43",
   "metadata": {
    "tags": []
   },
   "outputs": [],
   "source": [
    "# receiver"
   ]
  },
  {
   "cell_type": "code",
   "execution_count": null,
   "id": "872c7334-e4dd-4931-93a1-ed2505d60861",
   "metadata": {},
   "outputs": [],
   "source": []
  }
 ],
 "metadata": {
  "kernelspec": {
   "display_name": "assistance",
   "language": "python",
   "name": "assistance"
  },
  "language_info": {
   "codemirror_mode": {
    "name": "ipython",
    "version": 3
   },
   "file_extension": ".py",
   "mimetype": "text/x-python",
   "name": "python",
   "nbconvert_exporter": "python",
   "pygments_lexer": "ipython3",
   "version": "3.11.2"
  }
 },
 "nbformat": 4,
 "nbformat_minor": 5
}
