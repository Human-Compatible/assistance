{
 "cells": [
  {
   "cell_type": "code",
   "execution_count": null,
   "id": "4246094c-445e-4916-8eb1-a1df5db6952f",
   "metadata": {
    "tags": []
   },
   "outputs": [],
   "source": [
    "%load_ext autoreload\n",
    "%autoreload 2"
   ]
  },
  {
   "cell_type": "code",
   "execution_count": null,
   "id": "f67a8842-22f7-4780-8acf-78f01214184d",
   "metadata": {
    "tags": []
   },
   "outputs": [],
   "source": [
    "from assistance import _ctx\n",
    "from assistance._config import load_faq_data\n",
    "from assistance._embeddings import get_top_questions_and_answers\n",
    "from assistance._keys import get_openai_api_key"
   ]
  },
  {
   "cell_type": "code",
   "execution_count": null,
   "id": "135b9dfb-1e08-477d-937a-bba272b2e856",
   "metadata": {
    "tags": []
   },
   "outputs": [],
   "source": [
    "_ctx.open_session()\n",
    "OPEN_AI_API_KEY = get_openai_api_key()"
   ]
  },
  {
   "cell_type": "code",
   "execution_count": null,
   "id": "07d719ec-01e3-422a-bbdc-b81c8f20af16",
   "metadata": {
    "tags": []
   },
   "outputs": [],
   "source": [
    "faq_data = await load_faq_data('jims-ac')"
   ]
  },
  {
   "cell_type": "code",
   "execution_count": null,
   "id": "eb3c58b4-b26b-4a47-b742-2f154f900e99",
   "metadata": {
    "tags": []
   },
   "outputs": [],
   "source": [
    "await get_top_questions_and_answers(\n",
    "    openai_api_key=OPEN_AI_API_KEY,\n",
    "    faq_data=faq_data,\n",
    "    query=\"What is edfin?\"\n",
    ")"
   ]
  },
  {
   "cell_type": "code",
   "execution_count": null,
   "id": "4fde26ff-3b61-4596-bf41-e4290d88c039",
   "metadata": {
    "tags": []
   },
   "outputs": [],
   "source": [
    "await get_top_questions_and_answers(\n",
    "    openai_api_key=OPEN_AI_API_KEY,\n",
    "    faq_data=faq_data,\n",
    "    query=query,\n",
    "    k=10\n",
    ")"
   ]
  },
  {
   "cell_type": "code",
   "execution_count": null,
   "id": "e4aa18f6-1144-40b7-8352-c57509da90e8",
   "metadata": {},
   "outputs": [],
   "source": []
  },
  {
   "cell_type": "code",
   "execution_count": null,
   "id": "14fb7fef-4723-4911-86ee-e04e2851d4a9",
   "metadata": {},
   "outputs": [],
   "source": []
  },
  {
   "cell_type": "code",
   "execution_count": null,
   "id": "125dd8f0-6627-41cc-9851-c0e38dca0148",
   "metadata": {},
   "outputs": [],
   "source": []
  }
 ],
 "metadata": {
  "kernelspec": {
   "display_name": "assistance",
   "language": "python",
   "name": "assistance"
  },
  "language_info": {
   "codemirror_mode": {
    "name": "ipython",
    "version": 3
   },
   "file_extension": ".py",
   "mimetype": "text/x-python",
   "name": "python",
   "nbconvert_exporter": "python",
   "pygments_lexer": "ipython3",
   "version": "3.11.2"
  }
 },
 "nbformat": 4,
 "nbformat_minor": 5
}
