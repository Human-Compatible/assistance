{
 "cells": [
  {
   "cell_type": "code",
   "execution_count": null,
   "id": "76409de5-bed6-418e-b158-42c71226bd4e",
   "metadata": {},
   "outputs": [],
   "source": [
    "# !pip install -e .."
   ]
  },
  {
   "cell_type": "code",
   "execution_count": null,
   "id": "7d6304f4-559c-4a94-9d1d-eb9714d4f205",
   "metadata": {},
   "outputs": [],
   "source": [
    "import collections\n",
    "import datetime\n",
    "import pathlib\n",
    "import tqdm"
   ]
  },
  {
   "cell_type": "code",
   "execution_count": null,
   "id": "76d704cd-485d-4ee8-a083-09a2ebe42f92",
   "metadata": {},
   "outputs": [],
   "source": [
    "%load_ext autoreload\n",
    "%autoreload 2"
   ]
  },
  {
   "cell_type": "code",
   "execution_count": null,
   "id": "745405a2-8187-4101-ad4b-2f80ebbc49a9",
   "metadata": {},
   "outputs": [],
   "source": [
    "from assistance.api.keys import get_notion_api_key"
   ]
  },
  {
   "cell_type": "code",
   "execution_count": null,
   "id": "3be12638-adff-48fe-99dd-39394d454f00",
   "metadata": {},
   "outputs": [],
   "source": [
    "API_KEY = get_notion_api_key()\n",
    "PARENT_PAGE_ID = \"ad816892782d478d9998f700a5c783be\""
   ]
  },
  {
   "cell_type": "code",
   "execution_count": null,
   "id": "c4f0cac4-cf2b-4f9c-be7b-ac1fa7cc519b",
   "metadata": {},
   "outputs": [],
   "source": [
    "import aiohttp"
   ]
  },
  {
   "cell_type": "code",
   "execution_count": null,
   "id": "6806bf79-be1c-45cd-a119-2a51cb0f18dd",
   "metadata": {},
   "outputs": [],
   "source": [
    "async def get_all_sub_blocks(block_id):\n",
    "    parameters = \"\"\n",
    "    has_more = True\n",
    "    results = []\n",
    "    \n",
    "    async with aiohttp.ClientSession() as session:\n",
    "        while True:\n",
    "            url = f\"https://api.notion.com/v1/blocks/{block_id}/children{parameters}\"\n",
    "\n",
    "            headers = {\n",
    "                \"accept\": \"application/json\",\n",
    "                \"Notion-Version\": \"2022-06-28\",\n",
    "                \"Authorization\": f\"Bearer {API_KEY}\",\n",
    "            }\n",
    "\n",
    "            async with session.get(url, headers=headers) as resp:\n",
    "                json = await resp.json()\n",
    "\n",
    "            results += json['results']\n",
    "            has_more = json['has_more']\n",
    "\n",
    "            if not has_more:\n",
    "                return results\n",
    "\n",
    "            parameters = f\"?start_cursor={json['next_cursor']}\""
   ]
  },
  {
   "cell_type": "code",
   "execution_count": null,
   "id": "747f33f9-e832-4d06-bad4-c76fe683c253",
   "metadata": {},
   "outputs": [],
   "source": [
    "async def get_transcript(block_id):\n",
    "    a_page = await get_all_sub_blocks(block_id)\n",
    "    \n",
    "    transcript_items = []\n",
    "\n",
    "    for item in a_page:\n",
    "        for rich_text in item['paragraph']['rich_text']:\n",
    "            transcript_items.append(rich_text['plain_text'])\n",
    "\n",
    "    transcript = \"\\n\\n\".join(transcript_items)\n",
    "    \n",
    "    return transcript"
   ]
  },
  {
   "cell_type": "code",
   "execution_count": null,
   "id": "750551c9-5d7a-4d7b-8bf8-e1c362e59880",
   "metadata": {},
   "outputs": [],
   "source": [
    "results = await get_all_sub_blocks(PARENT_PAGE_ID)"
   ]
  },
  {
   "cell_type": "code",
   "execution_count": null,
   "id": "e6f1305c-b832-49ea-85d0-3fb71b0778c8",
   "metadata": {},
   "outputs": [],
   "source": [
    "pages = {\n",
    "    item['id']: {'title': item['child_page']['title'], 'created_time': item['created_time']}\n",
    "    for item in results\n",
    "    if item['type'] == 'child_page'\n",
    "}"
   ]
  },
  {
   "cell_type": "code",
   "execution_count": null,
   "id": "64530dac-5dfc-4df9-a9aa-4f237775e6a9",
   "metadata": {},
   "outputs": [],
   "source": [
    "transcripts_dir = pathlib.Path.home() / \".assistance.chat\" / \"transcripts\""
   ]
  },
  {
   "cell_type": "code",
   "execution_count": null,
   "id": "d10aa958-0c9e-4583-b231-1450338e49b7",
   "metadata": {},
   "outputs": [],
   "source": [
    "for page_id, details in tqdm.tqdm(pages.items()):\n",
    "    user_id = details['title']\n",
    "    timestamp = details['created_time']\n",
    "    \n",
    "    user_dir = transcripts_dir / user_id\n",
    "    user_dir.mkdir(exist_ok=True, parents=True)\n",
    "    \n",
    "    filename = timestamp.replace(\"-\", \"\").replace(\":\", \"\").replace(\".\", \"_\")\n",
    "    filepath = user_dir / filename\n",
    "    \n",
    "    if filepath.exists():\n",
    "        continue\n",
    "    \n",
    "    transcript = await get_transcript(page_id)\n",
    "    \n",
    "    with open(filepath, \"w\") as f:\n",
    "        f.write(transcript)"
   ]
  }
 ],
 "metadata": {
  "kernelspec": {
   "display_name": "Python 3 (ipykernel)",
   "language": "python",
   "name": "python3"
  },
  "language_info": {
   "codemirror_mode": {
    "name": "ipython",
    "version": 3
   },
   "file_extension": ".py",
   "mimetype": "text/x-python",
   "name": "python",
   "nbconvert_exporter": "python",
   "pygments_lexer": "ipython3",
   "version": "3.10.7"
  }
 },
 "nbformat": 4,
 "nbformat_minor": 5
}
