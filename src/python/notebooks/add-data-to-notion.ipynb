{
 "cells": [
  {
   "cell_type": "code",
   "execution_count": null,
   "id": "76409de5-bed6-418e-b158-42c71226bd4e",
   "metadata": {},
   "outputs": [],
   "source": [
    "# !pip install -e .."
   ]
  },
  {
   "cell_type": "code",
   "execution_count": null,
   "id": "910c16b1-ed0f-488c-abac-e83fd057cdbf",
   "metadata": {},
   "outputs": [],
   "source": [
    "# !pip install notion-client"
   ]
  },
  {
   "cell_type": "code",
   "execution_count": null,
   "id": "7d6304f4-559c-4a94-9d1d-eb9714d4f205",
   "metadata": {},
   "outputs": [],
   "source": [
    "import collections\n",
    "import datetime\n",
    "import pathlib\n",
    "import tqdm\n",
    "import aiohttp\n",
    "from notion_client import AsyncClient\n",
    "import re\n",
    "import json"
   ]
  },
  {
   "cell_type": "code",
   "execution_count": null,
   "id": "76d704cd-485d-4ee8-a083-09a2ebe42f92",
   "metadata": {},
   "outputs": [],
   "source": [
    "%load_ext autoreload\n",
    "%autoreload 2"
   ]
  },
  {
   "cell_type": "code",
   "execution_count": null,
   "id": "745405a2-8187-4101-ad4b-2f80ebbc49a9",
   "metadata": {},
   "outputs": [],
   "source": [
    "from assistance.api.keys import load_secret"
   ]
  },
  {
   "cell_type": "code",
   "execution_count": null,
   "id": "3be12638-adff-48fe-99dd-39394d454f00",
   "metadata": {},
   "outputs": [],
   "source": [
    "API_KEY = load_secret(\"reporting_notion_api_key\")\n",
    "DATABASE_ID = \"8e62c1f5c4d545c3a529fb0bc549ad65\""
   ]
  },
  {
   "cell_type": "code",
   "execution_count": null,
   "id": "fa28340c-2e38-495b-ba97-9b3540a3933c",
   "metadata": {},
   "outputs": [],
   "source": [
    "notion = AsyncClient(auth=API_KEY)"
   ]
  },
  {
   "cell_type": "code",
   "execution_count": null,
   "id": "86ddb510-3616-4fb0-8900-ec43cbb1de17",
   "metadata": {},
   "outputs": [],
   "source": [
    "response = await notion.databases.retrieve(database_id=DATABASE_ID)"
   ]
  },
  {
   "cell_type": "code",
   "execution_count": null,
   "id": "2f9ba6ca-56ee-40fa-bfd8-2f57f1fb9931",
   "metadata": {},
   "outputs": [],
   "source": [
    "response['properties']"
   ]
  },
  {
   "cell_type": "code",
   "execution_count": null,
   "id": "66f3ae73-d20c-4ac4-afcc-c01a2c2780f1",
   "metadata": {},
   "outputs": [],
   "source": [
    "# PROMPT = 'I%5E%7D%7C'\n",
    "TRANSCRIPT_START = '%40%5Bw%5C'\n",
    "TRANSCRIPT_OVERFLOW_1 = 'skWG'\n",
    "TRANSCRIPT_OVERFLOW_2 = 'i%7D%60V'\n",
    "TRANSCRIPT_OVERFLOW_3 = 'ovXV'\n",
    "TRANSCRIPT_OVERFLOW_4 = 'N%3AUg'\n",
    "FORM = 'WZEz'\n",
    "EMAIL = 'Wk%3Dt'\n",
    "NAME = 'title'\n",
    "DATE = '%60jg_'\n",
    "USER_ID = 'brjj'"
   ]
  },
  {
   "cell_type": "code",
   "execution_count": null,
   "id": "5ee7838b-b9c1-4042-be4e-ec518bf0b24f",
   "metadata": {},
   "outputs": [],
   "source": [
    "transcripts_dir = pathlib.Path.home() / \".assistance.chat\" / \"transcripts\""
   ]
  },
  {
   "cell_type": "code",
   "execution_count": null,
   "id": "389e95f9-ad9c-489d-860f-beca3e4e2a5b",
   "metadata": {},
   "outputs": [],
   "source": [
    "paths = list(transcripts_dir.glob('*/*'))"
   ]
  },
  {
   "cell_type": "code",
   "execution_count": null,
   "id": "4b2030e8-d7ba-4042-80ed-493fc79899c7",
   "metadata": {},
   "outputs": [],
   "source": [
    "collected_transcripts = collections.defaultdict(list)"
   ]
  },
  {
   "cell_type": "code",
   "execution_count": null,
   "id": "d6f1c797-0f5f-422e-8188-dec15b7b39af",
   "metadata": {},
   "outputs": [],
   "source": [
    "for path in paths:\n",
    "    timestamp = datetime.datetime.strptime(path.parts[-1], '%Y%m%dT%H%M%S_%fZ')\n",
    "    user_id = path.parts[-2]\n",
    "    \n",
    "    collected_transcripts[user_id].append(timestamp)\n",
    "\n",
    "sorted_collected_transcripts = {}\n",
    "for user_id, timestamps in collected_transcripts.items():\n",
    "    sorted_collected_transcripts[user_id] = sorted(timestamps)\n",
    "    \n",
    "\n",
    "latest_transcript = {}\n",
    "for user_id, timestamps in sorted_collected_transcripts.items():\n",
    "    latest_transcript[user_id] = timestamps[-1]\n",
    "    \n",
    "paths_to_use = {}\n",
    "for user_id, timestamp in latest_transcript.items():\n",
    "    path = transcripts_dir / user_id / datetime.datetime.strftime(timestamp, '%Y%m%dT%H%M%S_000Z')\n",
    "    assert path.exists()\n",
    "    \n",
    "    paths_to_use[user_id] = path"
   ]
  },
  {
   "cell_type": "code",
   "execution_count": null,
   "id": "7f50317f-f460-4c12-bf97-579f89ea8f4b",
   "metadata": {},
   "outputs": [],
   "source": [
    "rows = []\n",
    "start_cursor = None\n",
    "\n",
    "while True:\n",
    "    response = await notion.databases.query(database_id=DATABASE_ID, start_cursor=start_cursor)\n",
    "    \n",
    "    rows += response['results']\n",
    "    if not response['has_more']:\n",
    "        break\n",
    "        \n",
    "    else:\n",
    "        start_cursor = response['next_cursor']"
   ]
  },
  {
   "cell_type": "code",
   "execution_count": null,
   "id": "f3130c0b-744d-4896-a064-c5fa727dd67c",
   "metadata": {},
   "outputs": [],
   "source": [
    "# notion.databases.query?"
   ]
  },
  {
   "cell_type": "code",
   "execution_count": null,
   "id": "734fedc9-edae-4d3b-b7a0-907e3172d0b2",
   "metadata": {},
   "outputs": [],
   "source": [
    "# response['results']"
   ]
  },
  {
   "cell_type": "code",
   "execution_count": null,
   "id": "77a134dc-2347-44f4-842d-b5d9cf31fc44",
   "metadata": {},
   "outputs": [],
   "source": [
    "list_of_user_ids = [\n",
    "    row['properties']['User ID']['rich_text'][0]['text']['content'] \n",
    "    for row in rows\n",
    "]\n",
    "\n",
    "user_ids = set(list_of_user_ids)\n",
    "\n",
    "assert len(user_ids) == len(list_of_user_ids)"
   ]
  },
  {
   "cell_type": "code",
   "execution_count": null,
   "id": "93db046a-5895-4652-870e-b691b9663b80",
   "metadata": {},
   "outputs": [],
   "source": [
    "len(list_of_user_ids)"
   ]
  },
  {
   "cell_type": "code",
   "execution_count": null,
   "id": "45fdfb16-e2f7-4989-983a-0eaf74aa82c9",
   "metadata": {},
   "outputs": [],
   "source": [
    "response.keys()"
   ]
  },
  {
   "cell_type": "code",
   "execution_count": null,
   "id": "00ce67c3-bc9a-4f02-b438-0dd1cf3e34eb",
   "metadata": {},
   "outputs": [],
   "source": [
    "for user_id in user_ids:\n",
    "    if list_of_user_ids.count(user_id) == 1:\n",
    "        continue\n",
    "        \n",
    "    row_ids = [row[\"id\"] for row in rows if row['properties']['User ID']['rich_text'][0]['text']['content'] == user_id]\n",
    "    \n",
    "    for row_id in row_ids[1:]:\n",
    "        await notion.blocks.delete(row_id)"
   ]
  },
  {
   "cell_type": "code",
   "execution_count": null,
   "id": "fae18ca9-d5bd-40a0-9e05-8162a625bd48",
   "metadata": {},
   "outputs": [],
   "source": [
    "# for row in rows:\n",
    "#     await notion.blocks.delete(row[\"id\"])"
   ]
  },
  {
   "cell_type": "code",
   "execution_count": null,
   "id": "204b128f-4ff0-42e1-9850-a9ddc516a9b1",
   "metadata": {},
   "outputs": [],
   "source": [
    "regex_pattern = r'\\{(?:[^{}]|())*\\}'"
   ]
  },
  {
   "cell_type": "code",
   "execution_count": null,
   "id": "d8982c9e-0667-4b6f-a9b6-28ab964805cb",
   "metadata": {},
   "outputs": [],
   "source": [
    "for user_id, path in tqdm.tqdm(paths_to_use.items()):\n",
    "    if user_id in user_ids:\n",
    "        continue\n",
    "    \n",
    "    timestamp = datetime.datetime.strptime(path.parts[-1], '%Y%m%dT%H%M%S_%fZ')\n",
    "    timestamp = datetime.datetime.strftime(timestamp, '%Y-%m-%dT%H:%M:%S.000Z')\n",
    "\n",
    "\n",
    "    with open(path) as f:\n",
    "        transcript = f.read()\n",
    "\n",
    "    try:\n",
    "        # Pulling the form out of the transcript isn't ideal. Should be saved separately.\n",
    "        form = re.search(regex_pattern, transcript).group(0)\n",
    "        \n",
    "        details = json.loads(form)\n",
    "        name = details[\"Name\"]\n",
    "        email = details[\"Email\"]\n",
    "    except:\n",
    "        continue\n",
    "    \n",
    "    # prompt = transcript.split(\"Go!\\n\\n\")[0] + \"Go!\"\n",
    "    \n",
    "    transcript_user = transcript.split(\"Go!\\n\\n\")[-1]\n",
    "    \n",
    "    split = \"\\n\\n\"\n",
    "    line_by_line = transcript_user.split(split)\n",
    "    line_by_line = [item for item in line_by_line if len(item) != 0]\n",
    "    \n",
    "    # This is a nasty hack with messy code for notion limiting inputs to 2000 characters.\n",
    "    # This will still break if above 8000.\n",
    "    if len(transcript_user) > 8000:\n",
    "        part_a = len(line_by_line)//5\n",
    "        part_b = part_a * 2\n",
    "        part_c = part_a * 3\n",
    "        part_d = part_a * 4\n",
    "        \n",
    "        transcript_start = split.join(line_by_line[0:part_a])\n",
    "        transcript_overflow_1 = split.join(line_by_line[part_a:part_b])\n",
    "        transcript_overflow_2 = split.join(line_by_line[part_b:part_c])\n",
    "        transcript_overflow_3 = split.join(line_by_line[part_c:part_d])\n",
    "        transcript_overflow_4 = split.join(line_by_line[part_d::])\n",
    "    \n",
    "    elif len(transcript_user) > 6000:\n",
    "        part_a = len(line_by_line)//4\n",
    "        part_b = part_a * 2\n",
    "        part_c = part_a * 3\n",
    "        \n",
    "        transcript_start = split.join(line_by_line[0:part_a])\n",
    "        transcript_overflow_1 = split.join(line_by_line[part_a:part_b])\n",
    "        transcript_overflow_2 = split.join(line_by_line[part_b:part_c])\n",
    "        transcript_overflow_3 = split.join(line_by_line[part_c::])\n",
    "        transcript_overflow_4 = \"\"\n",
    "    \n",
    "    elif len(transcript_user) > 4000:\n",
    "        part_a = len(line_by_line)//3\n",
    "        part_b = part_a * 2\n",
    "        \n",
    "        transcript_start = split.join(line_by_line[0:part_a])\n",
    "        transcript_overflow_1 = split.join(line_by_line[part_a:part_b])\n",
    "        transcript_overflow_2 = split.join(line_by_line[part_b::])\n",
    "        transcript_overflow_3 = \"\"\n",
    "        transcript_overflow_4 = \"\"\n",
    "        \n",
    "    elif len(transcript_user) > 2000:\n",
    "        middle = len(line_by_line)//2\n",
    "\n",
    "        transcript_start = split.join(line_by_line[0:middle])\n",
    "        transcript_overflow_1 = split.join(line_by_line[middle::])\n",
    "        transcript_overflow_2 = \"\"\n",
    "        transcript_overflow_3 = \"\"\n",
    "        transcript_overflow_4 = \"\"\n",
    "        \n",
    "    else:\n",
    "        transcript_start = transcript_user\n",
    "        transcript_overflow_1 = \"\"\n",
    "        transcript_overflow_2 = \"\"\n",
    "        transcript_overflow_3 = \"\"\n",
    "        transcript_overflow_4 = \"\"\n",
    "    \n",
    "    data = {\n",
    "        # PROMPT:  [{\"type\": \"text\", \"text\": {\"content\": prompt}}],\n",
    "        TRANSCRIPT_START:  [{\"type\": \"text\", \"text\": {\"content\": transcript_start}}],\n",
    "        TRANSCRIPT_OVERFLOW_1:  [{\"type\": \"text\", \"text\": {\"content\": transcript_overflow_1}}],\n",
    "        TRANSCRIPT_OVERFLOW_2:  [{\"type\": \"text\", \"text\": {\"content\": transcript_overflow_2}}],\n",
    "        TRANSCRIPT_OVERFLOW_3:  [{\"type\": \"text\", \"text\": {\"content\": transcript_overflow_3}}],\n",
    "        TRANSCRIPT_OVERFLOW_4:  [{\"type\": \"text\", \"text\": {\"content\": transcript_overflow_4}}],\n",
    "        FORM: [{\"type\": \"text\", \"text\": {\"content\": form}}],\n",
    "        EMAIL: email,\n",
    "        NAME: [{\"type\": \"text\", \"text\": {\"content\": name}}],\n",
    "        DATE: {\"start\": timestamp},\n",
    "        USER_ID: [{\"type\": \"text\", \"text\": {\"content\": user_id}}]\n",
    "    }\n",
    "    \n",
    "    try:\n",
    "        response = await notion.pages.create(parent={\"database_id\": DATABASE_ID}, properties=data)\n",
    "    except:\n",
    "        # Another nasty hack, just to get some useful results into the table\n",
    "        pass\n",
    "\n",
    "        "
   ]
  },
  {
   "cell_type": "code",
   "execution_count": null,
   "id": "b3898bf9-beb8-4267-90b3-a9af4e78092f",
   "metadata": {},
   "outputs": [],
   "source": [
    "len(transcript)"
   ]
  },
  {
   "cell_type": "code",
   "execution_count": null,
   "id": "22307f4e-7e20-4b38-819a-a2c7264b6548",
   "metadata": {},
   "outputs": [],
   "source": [
    "data"
   ]
  },
  {
   "cell_type": "code",
   "execution_count": null,
   "id": "38a1e9a5-e0a4-4e07-a87f-a3016e8e299e",
   "metadata": {},
   "outputs": [],
   "source": []
  },
  {
   "cell_type": "code",
   "execution_count": null,
   "id": "1a7b2372-161a-4706-8885-023c6875c677",
   "metadata": {},
   "outputs": [],
   "source": [
    "transcript.split(\"Go!\\n\\n\")[-1]"
   ]
  },
  {
   "cell_type": "code",
   "execution_count": null,
   "id": "c463d8c7-10d0-456f-b3e8-610e7a5f7508",
   "metadata": {},
   "outputs": [],
   "source": []
  },
  {
   "cell_type": "code",
   "execution_count": null,
   "id": "cb98e101-0113-419b-84c0-cf86f5c257e0",
   "metadata": {},
   "outputs": [],
   "source": []
  },
  {
   "cell_type": "code",
   "execution_count": null,
   "id": "20ebf09c-c37e-4b16-82ef-2673e5bd51cf",
   "metadata": {},
   "outputs": [],
   "source": [
    "FORM"
   ]
  },
  {
   "cell_type": "code",
   "execution_count": null,
   "id": "075b0dd8-3f93-4337-a372-de6fcfcd9275",
   "metadata": {},
   "outputs": [],
   "source": []
  },
  {
   "cell_type": "code",
   "execution_count": null,
   "id": "efcd5b15-48f2-4280-ac0c-23475b97f4bf",
   "metadata": {},
   "outputs": [],
   "source": [
    "with open(list(paths_to_use.values())[0], 'rb') as f:\n",
    "    bytes_file_data = f.read()"
   ]
  },
  {
   "cell_type": "code",
   "execution_count": null,
   "id": "3abb704e-2fc5-4435-ba77-78e063b70fd1",
   "metadata": {},
   "outputs": [],
   "source": [
    "response = notion."
   ]
  },
  {
   "cell_type": "code",
   "execution_count": null,
   "id": "f4c2cf7e-333a-44fe-904e-f341e393ee25",
   "metadata": {},
   "outputs": [],
   "source": []
  },
  {
   "cell_type": "code",
   "execution_count": null,
   "id": "d5052e47-2bc4-4b3d-94ef-c7b6802aa763",
   "metadata": {},
   "outputs": [],
   "source": [
    "path = paths[0]"
   ]
  },
  {
   "cell_type": "code",
   "execution_count": null,
   "id": "5a9ef226-594c-4bc9-9603-cd8e3b3268b2",
   "metadata": {},
   "outputs": [],
   "source": []
  },
  {
   "cell_type": "code",
   "execution_count": null,
   "id": "a75f103a-bef5-400b-80ea-4a775c2fd034",
   "metadata": {},
   "outputs": [],
   "source": []
  },
  {
   "cell_type": "code",
   "execution_count": null,
   "id": "25eace70-cef7-4f8a-a7d1-f5ff5e5a3d1d",
   "metadata": {},
   "outputs": [],
   "source": [
    "list_users_response = await notion.users.list()\n",
    "list_users_response"
   ]
  },
  {
   "cell_type": "code",
   "execution_count": null,
   "id": "293ae122-b7c2-4f55-9ed6-eced32826145",
   "metadata": {},
   "outputs": [],
   "source": [
    "data = {\n",
    "\n",
    "}"
   ]
  },
  {
   "cell_type": "code",
   "execution_count": null,
   "id": "4a6f1de5-fad6-4891-909c-783249cbd41f",
   "metadata": {},
   "outputs": [],
   "source": []
  },
  {
   "cell_type": "code",
   "execution_count": null,
   "id": "f4b1056b-c291-4530-b08a-0f086edc1f2e",
   "metadata": {},
   "outputs": [],
   "source": []
  },
  {
   "cell_type": "code",
   "execution_count": null,
   "id": "c4f0cac4-cf2b-4f9c-be7b-ac1fa7cc519b",
   "metadata": {},
   "outputs": [],
   "source": [
    "async with aiohttp.ClientSession() as session:\n",
    "    url = f\"https://api.notion.com/v1/databases/{DATABASE_ID}\"\n",
    "\n",
    "    headers = {\n",
    "        \"accept\": \"application/json\",\n",
    "        \"Notion-Version\": \"2022-06-28\",\n",
    "        \"Authorization\": f\"Bearer {API_KEY}\",\n",
    "    }\n",
    "\n",
    "    async with session.get(url, headers=headers) as resp:\n",
    "        json = await resp.json()\n"
   ]
  },
  {
   "cell_type": "code",
   "execution_count": null,
   "id": "7b7347a6-e591-4df3-a84c-b1860ab2887b",
   "metadata": {},
   "outputs": [],
   "source": [
    "json"
   ]
  },
  {
   "cell_type": "code",
   "execution_count": null,
   "id": "9debc63e-952b-4829-93b1-c23fcff446b1",
   "metadata": {},
   "outputs": [],
   "source": []
  },
  {
   "cell_type": "code",
   "execution_count": null,
   "id": "6806bf79-be1c-45cd-a119-2a51cb0f18dd",
   "metadata": {},
   "outputs": [],
   "source": [
    "async def get_all_sub_blocks(block_id):\n",
    "    parameters = \"\"\n",
    "    has_more = True\n",
    "    results = []\n",
    "    \n",
    "    async with aiohttp.ClientSession() as session:\n",
    "        while True:\n",
    "            url = f\"https://api.notion.com/v1/blocks/{block_id}/children{parameters}\"\n",
    "\n",
    "            headers = {\n",
    "                \"accept\": \"application/json\",\n",
    "                \"Notion-Version\": \"2022-06-28\",\n",
    "                \"Authorization\": f\"Bearer {API_KEY}\",\n",
    "            }\n",
    "\n",
    "            async with session.get(url, headers=headers) as resp:\n",
    "                try:\n",
    "                    json = await resp.json()\n",
    "                except ContentTypeError:\n",
    "                    print(await resp.headers())\n",
    "                    raise\n",
    "\n",
    "            results += json['results']\n",
    "            has_more = json['has_more']\n",
    "\n",
    "            if not has_more:\n",
    "                return results\n",
    "\n",
    "            parameters = f\"?start_cursor={json['next_cursor']}\""
   ]
  },
  {
   "cell_type": "code",
   "execution_count": null,
   "id": "747f33f9-e832-4d06-bad4-c76fe683c253",
   "metadata": {},
   "outputs": [],
   "source": [
    "async def get_transcript(block_id):\n",
    "    a_page = await get_all_sub_blocks(block_id)\n",
    "    \n",
    "    transcript_items = []\n",
    "\n",
    "    for item in a_page:\n",
    "        for rich_text in item['paragraph']['rich_text']:\n",
    "            transcript_items.append(rich_text['plain_text'])\n",
    "\n",
    "    transcript = \"\\n\\n\".join(transcript_items)\n",
    "    \n",
    "    return transcript"
   ]
  },
  {
   "cell_type": "code",
   "execution_count": null,
   "id": "750551c9-5d7a-4d7b-8bf8-e1c362e59880",
   "metadata": {},
   "outputs": [],
   "source": [
    "results = await get_all_sub_blocks(PARENT_PAGE_ID)"
   ]
  },
  {
   "cell_type": "code",
   "execution_count": null,
   "id": "5e6a71b0-f994-4c0b-bd76-6a46d2d107bf",
   "metadata": {},
   "outputs": [],
   "source": [
    "# results"
   ]
  },
  {
   "cell_type": "code",
   "execution_count": null,
   "id": "e6f1305c-b832-49ea-85d0-3fb71b0778c8",
   "metadata": {},
   "outputs": [],
   "source": [
    "pages = {\n",
    "    item['id']: {'title': item['child_page']['title'], 'created_time': item['created_time']}\n",
    "    for item in results\n",
    "    if item['type'] == 'child_page'\n",
    "}"
   ]
  },
  {
   "cell_type": "code",
   "execution_count": null,
   "id": "64530dac-5dfc-4df9-a9aa-4f237775e6a9",
   "metadata": {},
   "outputs": [],
   "source": [
    "transcripts_dir = pathlib.Path.home() / \".assistance.chat\" / \"transcripts\""
   ]
  },
  {
   "cell_type": "code",
   "execution_count": null,
   "id": "d10aa958-0c9e-4583-b231-1450338e49b7",
   "metadata": {},
   "outputs": [],
   "source": [
    "for page_id, details in tqdm.tqdm(pages.items()):\n",
    "    user_id = details['title']\n",
    "    timestamp = details['created_time']\n",
    "    \n",
    "    user_dir = transcripts_dir / user_id\n",
    "    user_dir.mkdir(exist_ok=True, parents=True)\n",
    "    \n",
    "    filename = timestamp.replace(\"-\", \"\").replace(\":\", \"\").replace(\".\", \"_\")\n",
    "    filepath = user_dir / filename\n",
    "    \n",
    "    if filepath.exists():\n",
    "        continue\n",
    "    \n",
    "    transcript = await get_transcript(page_id)\n",
    "    \n",
    "    with open(filepath, \"w\") as f:\n",
    "        f.write(transcript)"
   ]
  },
  {
   "cell_type": "code",
   "execution_count": null,
   "id": "633fcdae-34b6-4cbc-962e-4be8aa131ff4",
   "metadata": {},
   "outputs": [],
   "source": []
  }
 ],
 "metadata": {
  "kernelspec": {
   "display_name": "Python 3 (ipykernel)",
   "language": "python",
   "name": "python3"
  },
  "language_info": {
   "codemirror_mode": {
    "name": "ipython",
    "version": 3
   },
   "file_extension": ".py",
   "mimetype": "text/x-python",
   "name": "python",
   "nbconvert_exporter": "python",
   "pygments_lexer": "ipython3",
   "version": "3.10.7"
  }
 },
 "nbformat": 4,
 "nbformat_minor": 5
}
